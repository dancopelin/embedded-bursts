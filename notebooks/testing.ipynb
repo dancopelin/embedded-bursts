{
 "cells": [
  {
   "cell_type": "code",
   "execution_count": 99,
   "metadata": {},
   "outputs": [],
   "source": [
    "import requests\n",
    "import zipfile\n",
    "from io import BytesIO, TextIOWrapper\n",
    "\n",
    "import pandas as pd"
   ]
  },
  {
   "cell_type": "code",
   "execution_count": 100,
   "metadata": {},
   "outputs": [],
   "source": [
    "base_url = \"https://data.arr-software.org/\"\n",
    "query_url = base_url+\"?lon_coord={0}&lat_coord={1}&type=json&All=1\"\n",
    "\n",
    "lon, lat = (152.648, -29.573)"
   ]
  },
  {
   "cell_type": "code",
   "execution_count": 101,
   "metadata": {},
   "outputs": [],
   "source": [
    "r = requests.get(query_url.format(lon, lat))\n",
    "response_json = r.json()"
   ]
  },
  {
   "cell_type": "code",
   "execution_count": 102,
   "metadata": {},
   "outputs": [
    {
     "data": {
      "text/plain": [
       "'https://data.arr-software.org/static/temporal_patterns/TP/ECsouth.zip'"
      ]
     },
     "execution_count": 102,
     "metadata": {},
     "output_type": "execute_result"
    }
   ],
   "source": [
    "point_tp_url = base_url+response_json['layers']['PointTP']['url']\n",
    "point_tp_url"
   ]
  },
  {
   "cell_type": "code",
   "execution_count": 103,
   "metadata": {},
   "outputs": [
    {
     "data": {
      "text/plain": [
       "<Response [200]>"
      ]
     },
     "execution_count": 103,
     "metadata": {},
     "output_type": "execute_result"
    }
   ],
   "source": [
    "d = requests.get(point_tp_url, stream=True)\n",
    "d"
   ]
  },
  {
   "cell_type": "code",
   "execution_count": 104,
   "metadata": {},
   "outputs": [
    {
     "data": {
      "text/plain": [
       "56304"
      ]
     },
     "execution_count": 104,
     "metadata": {},
     "output_type": "execute_result"
    }
   ],
   "source": [
    "zipdata = BytesIO()\n",
    "zipdata.write(d.content)"
   ]
  },
  {
   "cell_type": "code",
   "execution_count": 105,
   "metadata": {},
   "outputs": [],
   "source": [
    "myzipfile = zipfile.ZipFile(zipdata)\n",
    "increments_file = [f for f in myzipfile.namelist() if f.endswith(\"_Increments.csv\")][0]"
   ]
  },
  {
   "cell_type": "code",
   "execution_count": 106,
   "metadata": {},
   "outputs": [
    {
     "data": {
      "text/html": [
       "<div>\n",
       "<style scoped>\n",
       "    .dataframe tbody tr th:only-of-type {\n",
       "        vertical-align: middle;\n",
       "    }\n",
       "\n",
       "    .dataframe tbody tr th {\n",
       "        vertical-align: top;\n",
       "    }\n",
       "\n",
       "    .dataframe thead th {\n",
       "        text-align: right;\n",
       "    }\n",
       "</style>\n",
       "<table border=\"1\" class=\"dataframe\">\n",
       "  <thead>\n",
       "    <tr style=\"text-align: right;\">\n",
       "      <th></th>\n",
       "      <th>EventID</th>\n",
       "      <th>Duration</th>\n",
       "      <th>TimeStep</th>\n",
       "      <th>Region</th>\n",
       "      <th>AEP</th>\n",
       "      <th>Increments</th>\n",
       "    </tr>\n",
       "  </thead>\n",
       "  <tbody>\n",
       "    <tr>\n",
       "      <th>0</th>\n",
       "      <td>4380</td>\n",
       "      <td>10</td>\n",
       "      <td>5</td>\n",
       "      <td>East Coast (South)</td>\n",
       "      <td>frequent</td>\n",
       "      <td>[58.06, 41.94]</td>\n",
       "    </tr>\n",
       "    <tr>\n",
       "      <th>1</th>\n",
       "      <td>4382</td>\n",
       "      <td>10</td>\n",
       "      <td>5</td>\n",
       "      <td>East Coast (South)</td>\n",
       "      <td>frequent</td>\n",
       "      <td>[52.13, 47.87]</td>\n",
       "    </tr>\n",
       "    <tr>\n",
       "      <th>2</th>\n",
       "      <td>4384</td>\n",
       "      <td>10</td>\n",
       "      <td>5</td>\n",
       "      <td>East Coast (South)</td>\n",
       "      <td>frequent</td>\n",
       "      <td>[60.71, 39.29]</td>\n",
       "    </tr>\n",
       "    <tr>\n",
       "      <th>3</th>\n",
       "      <td>4385</td>\n",
       "      <td>10</td>\n",
       "      <td>5</td>\n",
       "      <td>East Coast (South)</td>\n",
       "      <td>frequent</td>\n",
       "      <td>[51.51, 48.49]</td>\n",
       "    </tr>\n",
       "    <tr>\n",
       "      <th>4</th>\n",
       "      <td>4386</td>\n",
       "      <td>10</td>\n",
       "      <td>5</td>\n",
       "      <td>East Coast (South)</td>\n",
       "      <td>frequent</td>\n",
       "      <td>[54.55, 45.45]</td>\n",
       "    </tr>\n",
       "  </tbody>\n",
       "</table>\n",
       "</div>"
      ],
      "text/plain": [
       "   EventID  Duration  TimeStep              Region       AEP      Increments\n",
       "0     4380        10         5  East Coast (South)  frequent  [58.06, 41.94]\n",
       "1     4382        10         5  East Coast (South)  frequent  [52.13, 47.87]\n",
       "2     4384        10         5  East Coast (South)  frequent  [60.71, 39.29]\n",
       "3     4385        10         5  East Coast (South)  frequent  [51.51, 48.49]\n",
       "4     4386        10         5  East Coast (South)  frequent  [54.55, 45.45]"
      ]
     },
     "execution_count": 106,
     "metadata": {},
     "output_type": "execute_result"
    }
   ],
   "source": [
    "df = pd.read_csv(TextIOWrapper(myzipfile.open(target_file)))\n",
    "df.columns = [c.strip() for c in df.columns.values]\n",
    "df[\"Increments\"] = pd.Series(df.iloc[:,5:].values.tolist())\n",
    "df.Increments = df.Increments.apply(lambda row: [r for r in row if str(r) != 'nan'])\n",
    "df = df.drop([c for c in df.columns.values if \"Unnamed\" in c], axis=1)\n",
    "df.head()"
   ]
  },
  {
   "cell_type": "code",
   "execution_count": null,
   "metadata": {},
   "outputs": [],
   "source": []
  },
  {
   "cell_type": "code",
   "execution_count": null,
   "metadata": {},
   "outputs": [],
   "source": []
  }
 ],
 "metadata": {
  "kernelspec": {
   "display_name": "Python 3",
   "language": "python",
   "name": "python3"
  },
  "language_info": {
   "codemirror_mode": {
    "name": "ipython",
    "version": 3
   },
   "file_extension": ".py",
   "mimetype": "text/x-python",
   "name": "python",
   "nbconvert_exporter": "python",
   "pygments_lexer": "ipython3",
   "version": "3.7.3"
  }
 },
 "nbformat": 4,
 "nbformat_minor": 2
}
